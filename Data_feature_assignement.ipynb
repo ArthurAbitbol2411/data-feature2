{
  "nbformat": 4,
  "nbformat_minor": 0,
  "metadata": {
    "colab": {
      "provenance": [],
      "authorship_tag": "ABX9TyOVtdUMHT8cKaYTfQIoK05C",
      "include_colab_link": true
    },
    "kernelspec": {
      "name": "python3",
      "display_name": "Python 3"
    },
    "language_info": {
      "name": "python"
    }
  },
  "cells": [
    {
      "cell_type": "markdown",
      "metadata": {
        "id": "view-in-github",
        "colab_type": "text"
      },
      "source": [
        "<a href=\"https://colab.research.google.com/github/ArthurAbitbol2411/data-feature2/blob/main/Data_feature_assignement.ipynb\" target=\"_parent\"><img src=\"https://colab.research.google.com/assets/colab-badge.svg\" alt=\"Open In Colab\"/></a>"
      ]
    },
    {
      "cell_type": "code",
      "execution_count": 4,
      "metadata": {
        "colab": {
          "base_uri": "https://localhost:8080/"
        },
        "id": "dl9dJguwEQTv",
        "outputId": "4aa28d27-ed0e-4982-8d57-3490c434d25b"
      },
      "outputs": [
        {
          "output_type": "stream",
          "name": "stdout",
          "text": [
            "Please enter a valid IP address: 134.201.250.155\n",
            "IP = 134.201.250.155\n",
            "City = Los Angeles\n",
            "Temperature = 25.69 deg C.\n"
          ]
        }
      ],
      "source": [
        "import requests\n",
        "\n",
        "# ip = '134.201.250.155' This in an exmple IP adress\n",
        "ip = input(\"Please enter a valid IP address: \")\n",
        "\n",
        "ipstack_api_key = \"44123329690335a8a645d599930f95fe\"\n",
        "url = f\"https://api.ipstack.com/{ip}?access_key={ipstack_api_key}\"\n",
        "\n",
        "# get the city from the IP adress\n",
        "\n",
        "res_ipstack = requests.get(url)\n",
        "if res_ipstack.status_code == 200:\n",
        "  data = res_ipstack.json()\n",
        "  city = data['city']\n",
        "else:\n",
        "  print(f'Something went wrong, code = {res_ipstack.status_code}')\n",
        "\n",
        "\n",
        "weather_api_key = \"287eded2af387c2d98d48b98b8a26b72\"\n",
        "params = {\n",
        "    'q':city,\n",
        "    'appid' : weather_api_key,\n",
        "    'units': 'metric'\n",
        "}\n",
        "\n",
        "base_url = \"http://api.openweathermap.org/data/2.5/weather\"\n",
        "\n",
        "# Use the city retrieved with the IP adress to get the temperature in the city\n",
        "\n",
        "res = requests.get(base_url, params = params)\n",
        "if res.status_code == 200:\n",
        "  data = res.json()\n",
        "  temp = data['main']['temp']\n",
        "  print(f'IP = {ip}')\n",
        "  print(f'City = {city}')\n",
        "  print(f'Temperature = {temp} deg C.')\n",
        "else:\n",
        "  print(f'Something went wrong, code = {res.status_code}')"
      ]
    }
  ]
}